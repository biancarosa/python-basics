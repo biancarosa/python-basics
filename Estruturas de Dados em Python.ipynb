{
 "cells": [
  {
   "cell_type": "markdown",
   "metadata": {},
   "source": [
    "# Estruturas de Dados em Python\n",
    "\n",
    "## Trabalhando com listas, dicionários, sets, tuplas e strings"
   ]
  },
  {
   "cell_type": "code",
   "execution_count": 78,
   "metadata": {},
   "outputs": [],
   "source": [
    "# Só carregando um dado qualquer pra gente brincar\n",
    "import json\n",
    "with open('musicas.json') as f:\n",
    "    response = json.loads(f.read())"
   ]
  },
  {
   "cell_type": "markdown",
   "metadata": {},
   "source": [
    "### Listas"
   ]
  },
  {
   "cell_type": "code",
   "execution_count": 76,
   "metadata": {},
   "outputs": [
    {
     "name": "stdout",
     "output_type": "stream",
     "text": [
      "[1, 'a']\n",
      "[1, 2]\n",
      "[1, 2, 3, 4]\n",
      "[1, 2, 3, 4]\n",
      "[1, 2, 3, 4, 5, 6]\n",
      "[1, 2, 3, 4, 5, 6, 7]\n"
     ]
    }
   ],
   "source": [
    "# Listas\n",
    "# \n",
    "#\n",
    "# São objetos **mutáveis** que podem conter valores de um ou mais tipos.\n",
    "lista = [1, 'a']\n",
    "print(lista)\n",
    "\n",
    "# Aonde cada elemento pode ser modificado\n",
    "lista[1] = 2\n",
    "print(lista)\n",
    "\n",
    "# E suportam adições de outros iteráveis\n",
    "lista2 = [3,4]\n",
    "lista += lista2\n",
    "print(lista)\n",
    "lista3 = [5,6]\n",
    "lista + lista3\n",
    "print(lista)\n",
    "# Percebe que o operador + só retorna uma nova lista contendo todos os valores?\n",
    "\n",
    "# Uma forma de não criar uma nova lista é usar o extend - tende a ser mais rápido.\n",
    "lista.extend(lista3)\n",
    "print(lista)\n",
    "\n",
    "# Pra adicionar um único objeto\n",
    "lista.append(7)\n",
    "print(lista)"
   ]
  },
  {
   "cell_type": "code",
   "execution_count": 81,
   "metadata": {},
   "outputs": [],
   "source": [
    "# List comprehensions\n",
    "#\n",
    "#\n",
    "# São formas simples de criarmos listas aonde cada elemento é um resultado de\n",
    "# uma ou mais operações aplicada a cada membro de uma sequência ou iterável.\n",
    "#\n",
    "# No exemplo abaixo, estamos criando uma lista a partir de um dicionário.\n",
    "track_names = [x['name'] for x in response['recenttracks']['track']]"
   ]
  },
  {
   "cell_type": "code",
   "execution_count": 84,
   "metadata": {},
   "outputs": [
    {
     "name": "stdout",
     "output_type": "stream",
     "text": [
      "['Every Breath You Take (feat. Liza Anne)', 'Take Me Home, Country Roads', 'Fast Car (feat. Tall Heights)', 'God is a Woman (615 Sessions)', \"I'm Not The Only One - Live From Spotify, London\"]\n",
      "['All Night', 'Talking Body', 'Let Me Hold You (Turn Me On)', 'Bloom', 'Take Me on the Floor']\n",
      "201\n",
      "['All Night', 'Talking Body', 'Let Me Hold You (Turn Me On)', 'Bloom', 'Take Me on the Floor']\n",
      "['All Night', 'Talking Body', 'Let Me Hold You (Turn Me On)', 'Bloom', 'Take Me on the Floor']\n"
     ]
    }
   ],
   "source": [
    "# Slices - recap\n",
    "#\n",
    "# Listas também são sequências (https://docs.python.org/3/glossary.html#term-sequence)\n",
    "# Sequências podem ser indexadas e \"fatiadas\".\n",
    "print(track_names[:5]) # apenas os 5 primeiros\n",
    "print(track_names[-5:]) # apenas os 5 últimos\n",
    "print(len(track_names)) # tamanho da lista\n",
    "print(track_names[len(track_names)-5:]) # se tiverem duvidando\n",
    "print(track_names[len(track_names)-5:len(track_names)]) # se tiverem duvidando mais ainda\n",
    "\n",
    "# Utilize os recursos da linguagem pra ganhar legibilidade!"
   ]
  },
  {
   "cell_type": "code",
   "execution_count": 44,
   "metadata": {},
   "outputs": [
    {
     "name": "stdout",
     "output_type": "stream",
     "text": [
      "[1, 4, 9, 16, 25, 36, 49, 64, 81, 100]\n"
     ]
    }
   ],
   "source": [
    "# Voltando em list comprehensions - uma outra forma de usar.\n",
    "numbers = [1,2,3,4,5,6,7,8,9,10]\n",
    "squares = [x**2 for x in numbers]\n",
    "print(squares)"
   ]
  },
  {
   "cell_type": "code",
   "execution_count": 94,
   "metadata": {},
   "outputs": [
    {
     "name": "stdout",
     "output_type": "stream",
     "text": [
      "7\n",
      "33\n",
      "48\n"
     ]
    },
    {
     "data": {
      "text/plain": [
       "7"
      ]
     },
     "execution_count": 94,
     "metadata": {},
     "output_type": "execute_result"
    }
   ],
   "source": [
    "# Encontrando itens na lista\n",
    "for i in range(len(track_names)):\n",
    "    if track_names[i] == 'Debaser':\n",
    "        print(i)\n",
    "\n",
    "# Ou... s\n",
    "track_names.index('Debaser')"
   ]
  },
  {
   "cell_type": "code",
   "execution_count": 92,
   "metadata": {},
   "outputs": [
    {
     "ename": "ValueError",
     "evalue": "'Halo' is not in list",
     "output_type": "error",
     "traceback": [
      "\u001b[0;31m---------------------------------------------------------------------------\u001b[0m",
      "\u001b[0;31mValueError\u001b[0m                                Traceback (most recent call last)",
      "\u001b[0;32m<ipython-input-92-4150243ab181>\u001b[0m in \u001b[0;36m<module>\u001b[0;34m\u001b[0m\n\u001b[1;32m      1\u001b[0m \u001b[0;31m# E se não existir?\u001b[0m\u001b[0;34m\u001b[0m\u001b[0;34m\u001b[0m\u001b[0;34m\u001b[0m\u001b[0m\n\u001b[0;32m----> 2\u001b[0;31m \u001b[0mtrack_names\u001b[0m\u001b[0;34m.\u001b[0m\u001b[0mindex\u001b[0m\u001b[0;34m(\u001b[0m\u001b[0;34m'Halo'\u001b[0m\u001b[0;34m)\u001b[0m\u001b[0;34m\u001b[0m\u001b[0;34m\u001b[0m\u001b[0m\n\u001b[0m",
      "\u001b[0;31mValueError\u001b[0m: 'Halo' is not in list"
     ]
    }
   ],
   "source": [
    "# E se não existir?\n",
    "track_names.index('Halo')"
   ]
  },
  {
   "cell_type": "code",
   "execution_count": 115,
   "metadata": {},
   "outputs": [
    {
     "name": "stdout",
     "output_type": "stream",
     "text": [
      "['(Hey Why) Miss You Sometime', '(Hey Why) Miss You Sometime', 'All Night', 'Alma Sebosa', 'Amor Marginal']\n",
      "[\"You've Got the Love\", 'You Only Live Once', 'Wild Things - Acoustic Version', \"Why'd You Only Call Me When You're High?\", 'Where Is My Mind?']\n",
      "['Tua', 'Sex', 'Sex', 'Hey', 'DIY']\n",
      "['Tua', 'Sex', 'Sex', 'Hey', 'DIY']\n"
     ]
    }
   ],
   "source": [
    "# Ordenando items\n",
    "track_names.sort()\n",
    "print(track_names[:5])\n",
    "# E revertendo items\n",
    "track_names.reverse()\n",
    "print(track_names[:5])\n",
    "\n",
    "# Ou sortear por uma key (https://docs.python.org/3/howto/sorting.html#key-functions)\n",
    "track_names.sort(key = lambda s: len(s))\n",
    "print(track_names[:5])\n",
    "# Ou ainda... \n",
    "track_names.sort(key = len)\n",
    "print(track_names[:5])\n",
    "\n",
    "track_names.sort() # restaurando a lista"
   ]
  },
  {
   "cell_type": "code",
   "execution_count": 116,
   "metadata": {},
   "outputs": [
    {
     "name": "stdout",
     "output_type": "stream",
     "text": [
      "2\n"
     ]
    }
   ],
   "source": [
    "# Contando items na lista\n",
    "print(track_names.count('Wave of Mutilation (UK Surf)'))"
   ]
  },
  {
   "cell_type": "markdown",
   "metadata": {},
   "source": [
    "### Dicionários"
   ]
  },
  {
   "cell_type": "code",
   "execution_count": 117,
   "metadata": {
    "scrolled": true
   },
   "outputs": [
    {
     "name": "stdout",
     "output_type": "stream",
     "text": [
      "{'(Hey Why) Miss You Sometime': 2, 'All Night': 1, 'Alma Sebosa': 1, 'Amor Marginal': 1, 'Asleep - 2011 Remaster': 1, 'Back to Bad': 1, 'Bang Bang': 1, 'Beautiful War': 1, 'Bird of Prey': 1, 'Bloom': 1, \"Boys Don't Cry\": 1, 'Brasa': 1, 'Brick by Boring Brick': 1, 'Broken Face (Live from the Fallout Shelter)': 1, 'Bédi Beat': 1, 'Caetano Veloso': 1, 'Caeu': 1, 'Can We Pretend (feat. Cash Cash)': 1, 'Candura': 1, 'Caribou (Live from the Fallout Shelter)': 1, 'Catfish Kate': 4, 'Celebrity Skin': 1, 'Chandelier': 1, 'Cherub Rock - Remastered 2011': 1, 'Circle Game': 1, 'City Grrrl': 1, 'Corpo Fechado': 1, 'Counting Bodies Like Sheep to the Rhythm of the War Drums': 1, 'Creep': 1, 'Crise de Carência': 1, 'DIY': 1, 'Daniel Boone': 1, 'Death Horizon': 1, 'Debaser': 3, 'Dia a dia, lado a lado': 1, 'Do I Wanna Know?': 1, 'Do the Evolution': 1, 'Dog Days Are Over': 1, \"Don't Cry (original)\": 1, 'Dói D+': 1, 'Eat Greens': 1, 'Ensaio Sobre Ela': 1, 'Eu Vou Fazer uma Macumba pra te Amarrar, Maldito!': 1, 'Everlong - acoustic version': 1, 'Every Breath You Take (feat. Liza Anne)': 2, 'Fake Plastic Trees': 1, 'Fast Car (feat. Tall Heights)': 2, 'Fluorescent Adolescent': 1, 'Foi Você, Fui Eu': 1, \"Free Fallin' - Live at the Nokia Theatre, Los Angeles, CA - December 2007\": 2, 'Gigantic': 2, 'Go With the Flow': 1, 'God is a Woman (615 Sessions)': 2, 'Gouge Away': 2, 'Half The World Away - Remastered': 1, 'Hang Out With You': 1, 'Have a Nice Day': 1, 'Here Comes Your Man': 1, 'Hey': 1, 'Holiday Song (Live from the Fallout Shelter)': 1, \"Howlin' for You\": 1, 'Hurts 2B Human (feat. Khalid)': 1, 'Hustle': 1, 'I Am The Highway': 1, 'I See Fire - From \"The Hobbit - The Desolation Of Smaug\"': 1, 'I hate your ex-girlfriend': 1, \"I'd Be Your Wife\": 1, \"I'm Amazed (Live from the Fallout Shelter)\": 1, \"I'm Not The Only One - Live From Spotify, London\": 2, \"I'm a Bitch\": 1, 'If I Had a Gun...': 1, 'If You Ever Wanna Be In Love - James Bay Spotify Session 2015': 1, 'In the Arms of Mrs. Mark of Cain': 2, 'Inside Your Eyes': 1, 'Isla de Encanta (Live from the Fallout Shelter)': 1, \"It's the End of the World as We Know It (and I Feel Fine)\": 1, 'Ja Da': 1, 'Just Another Girl': 1, \"Just Can't Get Enough\": 1, 'Know Your Name': 1, 'Lama - Ao Vivo': 1, 'Landslide': 1, 'Lay Your Head Down': 1, 'Learn to Fly': 1, 'Let Me Hold You (Turn Me On)': 1, 'Like a Stone': 1, 'Live Forever - Remastered': 1, 'Long Rider': 2, \"Look What You've Done\": 1, 'Los Surfers Muertos': 2, 'Louca - Acústico': 1, 'Loud Like Love': 1, 'Love Machine': 1, 'Love Me Anyway (feat. Chris Stapleton)': 1, 'Love You Better': 1, \"Love's Not a Competition (But I'm Winning)\": 1, 'Malibu': 1, 'Medo Bobo': 1, 'Meu jeito de amar': 1, 'Miracle Aligner': 1, \"Molly's Chambers\": 1, 'Monkey Gone to Heaven': 2, 'Mr. Brightside': 1, 'My Attic': 1, 'Nem o Mar (Pôde Levar)': 1, 'Ninguém perguntou por você': 1, 'Não Nega': 1, 'O lado vazio do sofá': 1, 'Ocean Of Night': 1, 'On Graveyard Hill': 2, 'Only Happy When It Rains': 1, 'PILLOWTALK': 1, 'Photograph': 1, 'Plush - Acoustic': 1, 'Power Lines': 1, 'Quando Bate Aquela Saudade': 1, 'R U Mine?': 1, 'Ready for Love': 2, 'Rich Girl': 1, 'Rito de Passá': 1, 'River': 1, 'Rock a My Soul (Live from the Fallout Shelter)': 1, 'Ruby': 1, 'Sem Nome, Mas Com Endereço': 1, 'Seven Nation Army': 1, 'Seventeen': 1, 'Sex': 2, 'Sex on Fire': 1, 'She Keeps Me Warm': 1, 'Show Me How To Live': 1, 'Silver Bullet': 2, 'Sing': 1, 'Single': 1, 'Sit Still, Look Pretty': 1, 'Smells Like Teen Spirit': 1, 'Soldier Of Love': 1, 'Somebody Told Me': 1, 'Someone Tell the Boys': 1, 'St. Nazaire': 1, 'Stand By Me': 1, 'Stay With Me - Live From Spotify Berlin': 2, 'Subbacultcha (Live from the Fallout Shelter)': 1, 'Supermassive Black Hole': 1, 'Sweet Dreams, TN': 1, 'Só Sei Dançar Com Você': 1, 'Take Me Home, Country Roads': 2, 'Take Me on the Floor': 1, 'Talking Body': 1, 'Tempo de Pipa': 1, 'Tennis Court': 1, 'There Is a Light That Never Goes Out - 2011 Remaster': 1, 'These Days': 1, 'This Heart': 1, 'This Is My Fate': 2, 'TiK ToK': 1, 'Tighten Up': 1, 'Times Like These': 1, 'Toma': 1, 'Touro': 1, 'Tua': 1, 'Uprising': 1, 'Use Somebody': 1, 'Vai e Vem': 1, 'Vidaloca': 1, 'Walk Me Home': 1, 'Wave of Mutilation': 2, 'Wave of Mutilation (UK Surf)': 2, \"We Don't Play Guitars\": 1, 'What Would We Be': 1, 'When You Sleep': 1, 'Where Is My Mind?': 1, \"Why'd You Only Call Me When You're High?\": 1, 'Wild Things - Acoustic Version': 1, 'You Only Live Once': 1, \"You've Got the Love\": 1}\n"
     ]
    }
   ],
   "source": [
    "# Gerando um dicionário com o count das músicas e dict comprehensions\n",
    "dict_tracks = {track_name:track_names.count(track_name) for track_name in track_names}\n",
    "print(dict_tracks)\n",
    "## Porque não tivemos chaves repetidas?"
   ]
  },
  {
   "cell_type": "code",
   "execution_count": 118,
   "metadata": {},
   "outputs": [
    {
     "name": "stdout",
     "output_type": "stream",
     "text": [
      "{'(Hey Why) Miss You Sometime': 2, 'All Night': 1, 'Alma Sebosa': 1, 'Amor Marginal': 1, 'Asleep - 2011 Remaster': 1, 'Back to Bad': 1, 'Bang Bang': 1, 'Beautiful War': 1, 'Bird of Prey': 1, 'Bloom': 1, \"Boys Don't Cry\": 1, 'Brasa': 1, 'Brick by Boring Brick': 1, 'Broken Face (Live from the Fallout Shelter)': 1, 'Bédi Beat': 1, 'Caetano Veloso': 1, 'Caeu': 1, 'Can We Pretend (feat. Cash Cash)': 1, 'Candura': 1, 'Caribou (Live from the Fallout Shelter)': 1, 'Catfish Kate': 4, 'Celebrity Skin': 1, 'Chandelier': 1, 'Cherub Rock - Remastered 2011': 1, 'Circle Game': 1, 'City Grrrl': 1, 'Corpo Fechado': 1, 'Counting Bodies Like Sheep to the Rhythm of the War Drums': 1, 'Creep': 1, 'Crise de Carência': 1, 'DIY': 1, 'Daniel Boone': 1, 'Death Horizon': 1, 'Debaser': 3, 'Dia a dia, lado a lado': 1, 'Do I Wanna Know?': 1, 'Do the Evolution': 1, 'Dog Days Are Over': 1, \"Don't Cry (original)\": 1, 'Dói D+': 1, 'Eat Greens': 1, 'Ensaio Sobre Ela': 1, 'Eu Vou Fazer uma Macumba pra te Amarrar, Maldito!': 1, 'Everlong - acoustic version': 1, 'Every Breath You Take (feat. Liza Anne)': 2, 'Fake Plastic Trees': 1, 'Fast Car (feat. Tall Heights)': 2, 'Fluorescent Adolescent': 1, 'Foi Você, Fui Eu': 1, \"Free Fallin' - Live at the Nokia Theatre, Los Angeles, CA - December 2007\": 2, 'Gigantic': 2, 'Go With the Flow': 1, 'God is a Woman (615 Sessions)': 2, 'Gouge Away': 2, 'Half The World Away - Remastered': 1, 'Hang Out With You': 1, 'Have a Nice Day': 1, 'Here Comes Your Man': 1, 'Hey': 1, 'Holiday Song (Live from the Fallout Shelter)': 1, \"Howlin' for You\": 1, 'Hurts 2B Human (feat. Khalid)': 1, 'Hustle': 1, 'I Am The Highway': 1, 'I See Fire - From \"The Hobbit - The Desolation Of Smaug\"': 1, 'I hate your ex-girlfriend': 1, \"I'd Be Your Wife\": 1, \"I'm Amazed (Live from the Fallout Shelter)\": 1, \"I'm Not The Only One - Live From Spotify, London\": 2, \"I'm a Bitch\": 1, 'If I Had a Gun...': 1, 'If You Ever Wanna Be In Love - James Bay Spotify Session 2015': 1, 'In the Arms of Mrs. Mark of Cain': 2, 'Inside Your Eyes': 1, 'Isla de Encanta (Live from the Fallout Shelter)': 1, \"It's the End of the World as We Know It (and I Feel Fine)\": 1, 'Ja Da': 1, 'Just Another Girl': 1, \"Just Can't Get Enough\": 1, 'Know Your Name': 1, 'Lama - Ao Vivo': 1, 'Landslide': 1, 'Lay Your Head Down': 1, 'Learn to Fly': 1, 'Let Me Hold You (Turn Me On)': 1, 'Like a Stone': 1, 'Live Forever - Remastered': 1, 'Long Rider': 2, \"Look What You've Done\": 1, 'Los Surfers Muertos': 2, 'Louca - Acústico': 1, 'Loud Like Love': 1, 'Love Machine': 1, 'Love Me Anyway (feat. Chris Stapleton)': 1, 'Love You Better': 1, \"Love's Not a Competition (But I'm Winning)\": 1, 'Malibu': 1, 'Medo Bobo': 1, 'Meu jeito de amar': 1, 'Miracle Aligner': 1, \"Molly's Chambers\": 1, 'Monkey Gone to Heaven': 2, 'Mr. Brightside': 1, 'My Attic': 1, 'Nem o Mar (Pôde Levar)': 1, 'Ninguém perguntou por você': 1, 'Não Nega': 1, 'O lado vazio do sofá': 1, 'Ocean Of Night': 1, 'On Graveyard Hill': 2, 'Only Happy When It Rains': 1, 'PILLOWTALK': 1, 'Photograph': 1, 'Plush - Acoustic': 1, 'Power Lines': 1, 'Quando Bate Aquela Saudade': 1, 'R U Mine?': 1, 'Ready for Love': 2, 'Rich Girl': 1, 'Rito de Passá': 1, 'River': 1, 'Rock a My Soul (Live from the Fallout Shelter)': 1, 'Ruby': 1, 'Sem Nome, Mas Com Endereço': 1, 'Seven Nation Army': 1, 'Seventeen': 1, 'Sex': 2, 'Sex on Fire': 1, 'She Keeps Me Warm': 1, 'Show Me How To Live': 1, 'Silver Bullet': 2, 'Sing': 1, 'Single': 1, 'Sit Still, Look Pretty': 1, 'Smells Like Teen Spirit': 1, 'Soldier Of Love': 1, 'Somebody Told Me': 1, 'Someone Tell the Boys': 1, 'St. Nazaire': 1, 'Stand By Me': 1, 'Stay With Me - Live From Spotify Berlin': 2, 'Subbacultcha (Live from the Fallout Shelter)': 1, 'Supermassive Black Hole': 1, 'Sweet Dreams, TN': 1, 'Só Sei Dançar Com Você': 1, 'Take Me Home, Country Roads': 2, 'Take Me on the Floor': 1, 'Talking Body': 1, 'Tempo de Pipa': 1, 'Tennis Court': 1, 'There Is a Light That Never Goes Out - 2011 Remaster': 1, 'These Days': 1, 'This Heart': 1, 'This Is My Fate': 2, 'TiK ToK': 1, 'Tighten Up': 1, 'Times Like These': 1, 'Toma': 1, 'Touro': 1, 'Tua': 1, 'Uprising': 1, 'Use Somebody': 1, 'Vai e Vem': 1, 'Vidaloca': 1, 'Walk Me Home': 1, 'Wave of Mutilation': 2, 'Wave of Mutilation (UK Surf)': 2, \"We Don't Play Guitars\": 1, 'What Would We Be': 1, 'When You Sleep': 1, 'Where Is My Mind?': 1, \"Why'd You Only Call Me When You're High?\": 1, 'Wild Things - Acoustic Version': 1, 'You Only Live Once': 1, \"You've Got the Love\": 1}\n"
     ]
    }
   ],
   "source": [
    "# Ou fazendo na mão...\n",
    "dict_tracks = {}\n",
    "for track_name in track_names:\n",
    "    if dict_tracks.get(track_name) is None:\n",
    "        dict_tracks[track_name] = 0\n",
    "    dict_tracks[track_name] += 1\n",
    "print(dict_tracks)"
   ]
  },
  {
   "cell_type": "code",
   "execution_count": 119,
   "metadata": {},
   "outputs": [
    {
     "name": "stdout",
     "output_type": "stream",
     "text": [
      "defaultdict(<class 'int'>, {'(Hey Why) Miss You Sometime': 2, 'All Night': 1, 'Alma Sebosa': 1, 'Amor Marginal': 1, 'Asleep - 2011 Remaster': 1, 'Back to Bad': 1, 'Bang Bang': 1, 'Beautiful War': 1, 'Bird of Prey': 1, 'Bloom': 1, \"Boys Don't Cry\": 1, 'Brasa': 1, 'Brick by Boring Brick': 1, 'Broken Face (Live from the Fallout Shelter)': 1, 'Bédi Beat': 1, 'Caetano Veloso': 1, 'Caeu': 1, 'Can We Pretend (feat. Cash Cash)': 1, 'Candura': 1, 'Caribou (Live from the Fallout Shelter)': 1, 'Catfish Kate': 4, 'Celebrity Skin': 1, 'Chandelier': 1, 'Cherub Rock - Remastered 2011': 1, 'Circle Game': 1, 'City Grrrl': 1, 'Corpo Fechado': 1, 'Counting Bodies Like Sheep to the Rhythm of the War Drums': 1, 'Creep': 1, 'Crise de Carência': 1, 'DIY': 1, 'Daniel Boone': 1, 'Death Horizon': 1, 'Debaser': 3, 'Dia a dia, lado a lado': 1, 'Do I Wanna Know?': 1, 'Do the Evolution': 1, 'Dog Days Are Over': 1, \"Don't Cry (original)\": 1, 'Dói D+': 1, 'Eat Greens': 1, 'Ensaio Sobre Ela': 1, 'Eu Vou Fazer uma Macumba pra te Amarrar, Maldito!': 1, 'Everlong - acoustic version': 1, 'Every Breath You Take (feat. Liza Anne)': 2, 'Fake Plastic Trees': 1, 'Fast Car (feat. Tall Heights)': 2, 'Fluorescent Adolescent': 1, 'Foi Você, Fui Eu': 1, \"Free Fallin' - Live at the Nokia Theatre, Los Angeles, CA - December 2007\": 2, 'Gigantic': 2, 'Go With the Flow': 1, 'God is a Woman (615 Sessions)': 2, 'Gouge Away': 2, 'Half The World Away - Remastered': 1, 'Hang Out With You': 1, 'Have a Nice Day': 1, 'Here Comes Your Man': 1, 'Hey': 1, 'Holiday Song (Live from the Fallout Shelter)': 1, \"Howlin' for You\": 1, 'Hurts 2B Human (feat. Khalid)': 1, 'Hustle': 1, 'I Am The Highway': 1, 'I See Fire - From \"The Hobbit - The Desolation Of Smaug\"': 1, 'I hate your ex-girlfriend': 1, \"I'd Be Your Wife\": 1, \"I'm Amazed (Live from the Fallout Shelter)\": 1, \"I'm Not The Only One - Live From Spotify, London\": 2, \"I'm a Bitch\": 1, 'If I Had a Gun...': 1, 'If You Ever Wanna Be In Love - James Bay Spotify Session 2015': 1, 'In the Arms of Mrs. Mark of Cain': 2, 'Inside Your Eyes': 1, 'Isla de Encanta (Live from the Fallout Shelter)': 1, \"It's the End of the World as We Know It (and I Feel Fine)\": 1, 'Ja Da': 1, 'Just Another Girl': 1, \"Just Can't Get Enough\": 1, 'Know Your Name': 1, 'Lama - Ao Vivo': 1, 'Landslide': 1, 'Lay Your Head Down': 1, 'Learn to Fly': 1, 'Let Me Hold You (Turn Me On)': 1, 'Like a Stone': 1, 'Live Forever - Remastered': 1, 'Long Rider': 2, \"Look What You've Done\": 1, 'Los Surfers Muertos': 2, 'Louca - Acústico': 1, 'Loud Like Love': 1, 'Love Machine': 1, 'Love Me Anyway (feat. Chris Stapleton)': 1, 'Love You Better': 1, \"Love's Not a Competition (But I'm Winning)\": 1, 'Malibu': 1, 'Medo Bobo': 1, 'Meu jeito de amar': 1, 'Miracle Aligner': 1, \"Molly's Chambers\": 1, 'Monkey Gone to Heaven': 2, 'Mr. Brightside': 1, 'My Attic': 1, 'Nem o Mar (Pôde Levar)': 1, 'Ninguém perguntou por você': 1, 'Não Nega': 1, 'O lado vazio do sofá': 1, 'Ocean Of Night': 1, 'On Graveyard Hill': 2, 'Only Happy When It Rains': 1, 'PILLOWTALK': 1, 'Photograph': 1, 'Plush - Acoustic': 1, 'Power Lines': 1, 'Quando Bate Aquela Saudade': 1, 'R U Mine?': 1, 'Ready for Love': 2, 'Rich Girl': 1, 'Rito de Passá': 1, 'River': 1, 'Rock a My Soul (Live from the Fallout Shelter)': 1, 'Ruby': 1, 'Sem Nome, Mas Com Endereço': 1, 'Seven Nation Army': 1, 'Seventeen': 1, 'Sex': 2, 'Sex on Fire': 1, 'She Keeps Me Warm': 1, 'Show Me How To Live': 1, 'Silver Bullet': 2, 'Sing': 1, 'Single': 1, 'Sit Still, Look Pretty': 1, 'Smells Like Teen Spirit': 1, 'Soldier Of Love': 1, 'Somebody Told Me': 1, 'Someone Tell the Boys': 1, 'St. Nazaire': 1, 'Stand By Me': 1, 'Stay With Me - Live From Spotify Berlin': 2, 'Subbacultcha (Live from the Fallout Shelter)': 1, 'Supermassive Black Hole': 1, 'Sweet Dreams, TN': 1, 'Só Sei Dançar Com Você': 1, 'Take Me Home, Country Roads': 2, 'Take Me on the Floor': 1, 'Talking Body': 1, 'Tempo de Pipa': 1, 'Tennis Court': 1, 'There Is a Light That Never Goes Out - 2011 Remaster': 1, 'These Days': 1, 'This Heart': 1, 'This Is My Fate': 2, 'TiK ToK': 1, 'Tighten Up': 1, 'Times Like These': 1, 'Toma': 1, 'Touro': 1, 'Tua': 1, 'Uprising': 1, 'Use Somebody': 1, 'Vai e Vem': 1, 'Vidaloca': 1, 'Walk Me Home': 1, 'Wave of Mutilation': 2, 'Wave of Mutilation (UK Surf)': 2, \"We Don't Play Guitars\": 1, 'What Would We Be': 1, 'When You Sleep': 1, 'Where Is My Mind?': 1, \"Why'd You Only Call Me When You're High?\": 1, 'Wild Things - Acoustic Version': 1, 'You Only Live Once': 1, \"You've Got the Love\": 1})\n"
     ]
    }
   ],
   "source": [
    "# Dá pra ser mais elegante?\n",
    "from collections import defaultdict\n",
    "dict_tracks = defaultdict(int)\n",
    "for track_name in track_names:\n",
    "    dict_tracks[track_name] += 1\n",
    "print(dict_tracks)"
   ]
  },
  {
   "cell_type": "code",
   "execution_count": 120,
   "metadata": {},
   "outputs": [
    {
     "name": "stdout",
     "output_type": "stream",
     "text": [
      "[('Catfish Kate', 4), ('Debaser', 3), ('(Hey Why) Miss You Sometime', 2), ('Every Breath You Take (feat. Liza Anne)', 2), ('Fast Car (feat. Tall Heights)', 2), (\"Free Fallin' - Live at the Nokia Theatre, Los Angeles, CA - December 2007\", 2), ('Gigantic', 2), ('God is a Woman (615 Sessions)', 2), ('Gouge Away', 2), (\"I'm Not The Only One - Live From Spotify, London\", 2), ('In the Arms of Mrs. Mark of Cain', 2), ('Long Rider', 2), ('Los Surfers Muertos', 2), ('Monkey Gone to Heaven', 2), ('On Graveyard Hill', 2)]\n"
     ]
    }
   ],
   "source": [
    "# Ou até usar counters...\n",
    "from collections import Counter\n",
    "counter = Counter(track_names)\n",
    "print(counter.most_common(15))"
   ]
  },
  {
   "cell_type": "markdown",
   "metadata": {},
   "source": [
    "### Sets"
   ]
  },
  {
   "cell_type": "code",
   "execution_count": 121,
   "metadata": {},
   "outputs": [
    {
     "name": "stdout",
     "output_type": "stream",
     "text": [
      "175\n"
     ]
    }
   ],
   "source": [
    "# Sets são listas que não aceitam duplicidade\n",
    "unique_list = set(track_names)\n",
    "print(len(unique_list))"
   ]
  },
  {
   "cell_type": "code",
   "execution_count": 15,
   "metadata": {},
   "outputs": [
    {
     "name": "stdout",
     "output_type": "stream",
     "text": [
      "175\n"
     ]
    }
   ],
   "source": [
    "# E tem set comprehension também\n",
    "unique_list = { x for x in track_names }\n",
    "print(len(unique_list))"
   ]
  },
  {
   "cell_type": "code",
   "execution_count": 122,
   "metadata": {},
   "outputs": [
    {
     "name": "stdout",
     "output_type": "stream",
     "text": [
      "{1, 2, 3}\n",
      "<class 'set'>\n"
     ]
    }
   ],
   "source": [
    "# Criando sets vazioss ^\n",
    "set_vazio = set() # e nunca set = {}, apesar de...\n",
    "set_com_conteudo = {1,2,3} # ser um set\n",
    "print(set_com_conteudo)\n",
    "print(type(set_com_conteudo))"
   ]
  },
  {
   "cell_type": "code",
   "execution_count": 128,
   "metadata": {},
   "outputs": [
    {
     "name": "stdout",
     "output_type": "stream",
     "text": [
      "pares e impares :: {2, 3, 4, 5, 6, 7}\n",
      "ou com union ::  {2, 3, 4, 5, 6, 7}\n",
      "numeros comuns entre pares e fib ::  {2}\n",
      "numeros comuns entre impares e fib ::  {3, 5}\n",
      "também funciona com intersection() {2}\n",
      "também funciona com intersection() {3, 5}\n",
      "diferença de pares pra fib ::  {1, 3, 5, 8, 13}\n",
      "ou exclusivo entre pares e fib ::  {1, 3, 4, 5, 6, 8, 13}\n"
     ]
    }
   ],
   "source": [
    "# Brincando com conjuntos\n",
    "pares = {2,4,6}\n",
    "impares = {3,5,7}\n",
    "fib = {1,2,3,5,8,13}\n",
    "# União\n",
    "print('pares e impares ::', pares | impares)\n",
    "print('ou com union :: ', pares.union(impares))\n",
    "\n",
    "# Interseção\n",
    "print('numeros comuns entre pares e fib :: ', pares & fib)\n",
    "print('numeros comuns entre impares e fib :: ', impares & fib)\n",
    "print('também funciona com intersection()', pares.intersection(fib))\n",
    "print('também funciona com intersection()', impares.intersection(fib))\n",
    "\n",
    "# Diferença\n",
    "print('diferença de pares pra fib :: ',fib - pares)\n",
    "\n",
    "# Ou exclusivo\n",
    "print('ou exclusivo entre pares e fib :: ', pares ^ fib)"
   ]
  },
  {
   "cell_type": "markdown",
   "metadata": {},
   "source": [
    "### Tuplas"
   ]
  },
  {
   "cell_type": "code",
   "execution_count": 135,
   "metadata": {},
   "outputs": [
    {
     "name": "stdout",
     "output_type": "stream",
     "text": [
      "1\n",
      "2\n",
      "2\n"
     ]
    },
    {
     "ename": "TypeError",
     "evalue": "'tuple' object does not support item assignment",
     "output_type": "error",
     "traceback": [
      "\u001b[0;31m---------------------------------------------------------------------------\u001b[0m",
      "\u001b[0;31mTypeError\u001b[0m                                 Traceback (most recent call last)",
      "\u001b[0;32m<ipython-input-135-24b3eaad7fb0>\u001b[0m in \u001b[0;36m<module>\u001b[0;34m\u001b[0m\n\u001b[1;32m      8\u001b[0m \u001b[0;34m\u001b[0m\u001b[0m\n\u001b[1;32m      9\u001b[0m \u001b[0;31m# No, can't do.\u001b[0m\u001b[0;34m\u001b[0m\u001b[0;34m\u001b[0m\u001b[0;34m\u001b[0m\u001b[0m\n\u001b[0;32m---> 10\u001b[0;31m \u001b[0mtupla\u001b[0m\u001b[0;34m[\u001b[0m\u001b[0;36m0\u001b[0m\u001b[0;34m]\u001b[0m \u001b[0;34m=\u001b[0m \u001b[0;36m1\u001b[0m\u001b[0;34m\u001b[0m\u001b[0;34m\u001b[0m\u001b[0m\n\u001b[0m",
      "\u001b[0;31mTypeError\u001b[0m: 'tuple' object does not support item assignment"
     ]
    }
   ],
   "source": [
    "# Tuplas\n",
    "#\n",
    "# Conjuntos de valores **imutáveis**\n",
    "tupla = (1,2,3)\n",
    "print(tupla[0])\n",
    "print(tupla[1])\n",
    "print(tupla[1])\n",
    "\n",
    "# No, can't do.\n",
    "tupla[0] = 1"
   ]
  },
  {
   "cell_type": "code",
   "execution_count": 141,
   "metadata": {},
   "outputs": [
    {
     "name": "stdout",
     "output_type": "stream",
     "text": [
      "1 2 3\n"
     ]
    }
   ],
   "source": [
    "# Unpacking\n",
    "one, two, three = tupla\n",
    "print(one, two, three)"
   ]
  },
  {
   "cell_type": "markdown",
   "metadata": {},
   "source": [
    "### Strings"
   ]
  },
  {
   "cell_type": "code",
   "execution_count": 37,
   "metadata": {},
   "outputs": [
    {
     "name": "stdout",
     "output_type": "stream",
     "text": [
      "You've Got the Love\n",
      "You've\n",
      "Got the\n"
     ]
    }
   ],
   "source": [
    "track_name = track_names[0]\n",
    "print(track_name)\n",
    "print(track_name[:6])\n",
    "print(track_name[7:-5])"
   ]
  },
  {
   "cell_type": "code",
   "execution_count": 137,
   "metadata": {},
   "outputs": [
    {
     "name": "stdout",
     "output_type": "stream",
     "text": [
      "oi, sou uma string\n",
      "oi, também sou uma string\n",
      "oi sou uma string\n",
      "mas posso ter varias linhas\n"
     ]
    }
   ],
   "source": [
    "string = 'oi, sou uma string'\n",
    "print(string)\n",
    "string = \"oi, também sou uma string\"\n",
    "print(string)\n",
    "string = \"\"\"oi sou uma string\n",
    "mas posso ter varias linhas\"\"\"\n",
    "print(string)"
   ]
  },
  {
   "cell_type": "code",
   "execution_count": 146,
   "metadata": {},
   "outputs": [
    {
     "name": "stdout",
     "output_type": "stream",
     "text": [
      "oi, tudo bom?\n",
      "tudo bom?, oi\n",
      "olá\n",
      "oi tudo bom?\n"
     ]
    }
   ],
   "source": [
    "# Formatando strings\n",
    "print(\"{}, {}\".format('oi', 'tudo bom?'))\n",
    "print(\"{1}, {0}\".format('oi', 'tudo bom?'))\n",
    "oi = 'olá'\n",
    "print(f'{oi}')\n",
    "print('%s %s' % ('oi', 'tudo bom?'))"
   ]
  },
  {
   "cell_type": "markdown",
   "metadata": {},
   "source": [
    "### Sobrando tempo....\n",
    "#### Queues"
   ]
  },
  {
   "cell_type": "code",
   "execution_count": 140,
   "metadata": {},
   "outputs": [
    {
     "data": {
      "text/plain": [
       "1"
      ]
     },
     "execution_count": 140,
     "metadata": {},
     "output_type": "execute_result"
    }
   ],
   "source": [
    "# Para operaçoes first-in, first-out, podemos usar deques ao invés de listas, que são mais performáticos\n",
    "# Deques são listas encadeadas duplamente terminadas (double ended queues)\n",
    "from collections import deque\n",
    "queue = deque([1, 2, 3])\n",
    "queue.popleft()"
   ]
  },
  {
   "cell_type": "markdown",
   "metadata": {},
   "source": [
    "#### Stacks"
   ]
  },
  {
   "cell_type": "code",
   "execution_count": null,
   "metadata": {},
   "outputs": [],
   "source": [
    "# Listas podem perfeitamente ser stacks (operações last-in)\n",
    "stack "
   ]
  }
 ],
 "metadata": {
  "kernelspec": {
   "display_name": "Python 3",
   "language": "python",
   "name": "python3"
  },
  "language_info": {
   "codemirror_mode": {
    "name": "ipython",
    "version": 3
   },
   "file_extension": ".py",
   "mimetype": "text/x-python",
   "name": "python",
   "nbconvert_exporter": "python",
   "pygments_lexer": "ipython3",
   "version": "3.6.8"
  }
 },
 "nbformat": 4,
 "nbformat_minor": 2
}
